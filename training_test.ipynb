{
 "cells": [
  {
   "cell_type": "code",
   "execution_count": 4,
   "metadata": {},
   "outputs": [],
   "source": [
    "import torch\n",
    "import torch.nn as nn\n",
    "import torch.optim as optim\n",
    "import numpy as np\n",
    "import pandas as pd\n",
    "from sklearn.preprocessing import MinMaxScaler, OneHotEncoder\n",
    "from sklearn.model_selection import train_test_split\n",
    "from torch.utils.data import DataLoader, Dataset\n",
    "from sklearn.metrics import accuracy_score, classification_report\n",
    "import os"
   ]
  },
  {
   "cell_type": "code",
   "execution_count": 5,
   "metadata": {},
   "outputs": [
    {
     "name": "stderr",
     "output_type": "stream",
     "text": [
      "C:\\Users\\Gokul\\AppData\\Local\\Temp\\ipykernel_15892\\1303656025.py:13: FutureWarning: Downcasting behavior in `replace` is deprecated and will be removed in a future version. To retain the old behavior, explicitly call `result.infer_objects(copy=False)`. To opt-in to the future behavior, set `pd.set_option('future.no_silent_downcasting', True)`\n",
      "  data = data.replace(True, 1)\n",
      "C:\\Users\\Gokul\\AppData\\Local\\Temp\\ipykernel_15892\\1303656025.py:14: FutureWarning: Downcasting behavior in `replace` is deprecated and will be removed in a future version. To retain the old behavior, explicitly call `result.infer_objects(copy=False)`. To opt-in to the future behavior, set `pd.set_option('future.no_silent_downcasting', True)`\n",
      "  data = data.replace(False, 0)\n",
      "C:\\Users\\Gokul\\AppData\\Local\\Temp\\ipykernel_15892\\1303656025.py:20: FutureWarning: DataFrame.fillna with 'method' is deprecated and will raise in a future version. Use obj.ffill() or obj.bfill() instead.\n",
      "  data = data.fillna(method=\"ffill\").iloc[1:, :]\n",
      "C:\\Users\\Gokul\\AppData\\Local\\Temp\\ipykernel_15892\\1303656025.py:23: FutureWarning: The behavior of DataFrame concatenation with empty or all-NA entries is deprecated. In a future version, this will no longer exclude empty or all-NA columns when determining the result dtypes. To retain the old behavior, exclude the relevant entries before the concat operation.\n",
      "  complete = pd.concat([complete, data], axis=0, ignore_index=True)\n",
      "C:\\Users\\Gokul\\AppData\\Local\\Temp\\ipykernel_15892\\1303656025.py:13: FutureWarning: Downcasting behavior in `replace` is deprecated and will be removed in a future version. To retain the old behavior, explicitly call `result.infer_objects(copy=False)`. To opt-in to the future behavior, set `pd.set_option('future.no_silent_downcasting', True)`\n",
      "  data = data.replace(True, 1)\n",
      "C:\\Users\\Gokul\\AppData\\Local\\Temp\\ipykernel_15892\\1303656025.py:14: FutureWarning: Downcasting behavior in `replace` is deprecated and will be removed in a future version. To retain the old behavior, explicitly call `result.infer_objects(copy=False)`. To opt-in to the future behavior, set `pd.set_option('future.no_silent_downcasting', True)`\n",
      "  data = data.replace(False, 0)\n",
      "C:\\Users\\Gokul\\AppData\\Local\\Temp\\ipykernel_15892\\1303656025.py:20: FutureWarning: DataFrame.fillna with 'method' is deprecated and will raise in a future version. Use obj.ffill() or obj.bfill() instead.\n",
      "  data = data.fillna(method=\"ffill\").iloc[1:, :]\n",
      "C:\\Users\\Gokul\\AppData\\Local\\Temp\\ipykernel_15892\\1303656025.py:13: FutureWarning: Downcasting behavior in `replace` is deprecated and will be removed in a future version. To retain the old behavior, explicitly call `result.infer_objects(copy=False)`. To opt-in to the future behavior, set `pd.set_option('future.no_silent_downcasting', True)`\n",
      "  data = data.replace(True, 1)\n",
      "C:\\Users\\Gokul\\AppData\\Local\\Temp\\ipykernel_15892\\1303656025.py:14: FutureWarning: Downcasting behavior in `replace` is deprecated and will be removed in a future version. To retain the old behavior, explicitly call `result.infer_objects(copy=False)`. To opt-in to the future behavior, set `pd.set_option('future.no_silent_downcasting', True)`\n",
      "  data = data.replace(False, 0)\n",
      "C:\\Users\\Gokul\\AppData\\Local\\Temp\\ipykernel_15892\\1303656025.py:20: FutureWarning: DataFrame.fillna with 'method' is deprecated and will raise in a future version. Use obj.ffill() or obj.bfill() instead.\n",
      "  data = data.fillna(method=\"ffill\").iloc[1:, :]\n",
      "C:\\Users\\Gokul\\AppData\\Local\\Temp\\ipykernel_15892\\1303656025.py:13: FutureWarning: Downcasting behavior in `replace` is deprecated and will be removed in a future version. To retain the old behavior, explicitly call `result.infer_objects(copy=False)`. To opt-in to the future behavior, set `pd.set_option('future.no_silent_downcasting', True)`\n",
      "  data = data.replace(True, 1)\n",
      "C:\\Users\\Gokul\\AppData\\Local\\Temp\\ipykernel_15892\\1303656025.py:14: FutureWarning: Downcasting behavior in `replace` is deprecated and will be removed in a future version. To retain the old behavior, explicitly call `result.infer_objects(copy=False)`. To opt-in to the future behavior, set `pd.set_option('future.no_silent_downcasting', True)`\n",
      "  data = data.replace(False, 0)\n",
      "C:\\Users\\Gokul\\AppData\\Local\\Temp\\ipykernel_15892\\1303656025.py:20: FutureWarning: DataFrame.fillna with 'method' is deprecated and will raise in a future version. Use obj.ffill() or obj.bfill() instead.\n",
      "  data = data.fillna(method=\"ffill\").iloc[1:, :]\n",
      "C:\\Users\\Gokul\\AppData\\Local\\Temp\\ipykernel_15892\\1303656025.py:13: FutureWarning: Downcasting behavior in `replace` is deprecated and will be removed in a future version. To retain the old behavior, explicitly call `result.infer_objects(copy=False)`. To opt-in to the future behavior, set `pd.set_option('future.no_silent_downcasting', True)`\n",
      "  data = data.replace(True, 1)\n",
      "C:\\Users\\Gokul\\AppData\\Local\\Temp\\ipykernel_15892\\1303656025.py:14: FutureWarning: Downcasting behavior in `replace` is deprecated and will be removed in a future version. To retain the old behavior, explicitly call `result.infer_objects(copy=False)`. To opt-in to the future behavior, set `pd.set_option('future.no_silent_downcasting', True)`\n",
      "  data = data.replace(False, 0)\n",
      "C:\\Users\\Gokul\\AppData\\Local\\Temp\\ipykernel_15892\\1303656025.py:20: FutureWarning: DataFrame.fillna with 'method' is deprecated and will raise in a future version. Use obj.ffill() or obj.bfill() instead.\n",
      "  data = data.fillna(method=\"ffill\").iloc[1:, :]\n",
      "C:\\Users\\Gokul\\AppData\\Local\\Temp\\ipykernel_15892\\1303656025.py:13: FutureWarning: Downcasting behavior in `replace` is deprecated and will be removed in a future version. To retain the old behavior, explicitly call `result.infer_objects(copy=False)`. To opt-in to the future behavior, set `pd.set_option('future.no_silent_downcasting', True)`\n",
      "  data = data.replace(True, 1)\n",
      "C:\\Users\\Gokul\\AppData\\Local\\Temp\\ipykernel_15892\\1303656025.py:14: FutureWarning: Downcasting behavior in `replace` is deprecated and will be removed in a future version. To retain the old behavior, explicitly call `result.infer_objects(copy=False)`. To opt-in to the future behavior, set `pd.set_option('future.no_silent_downcasting', True)`\n",
      "  data = data.replace(False, 0)\n",
      "C:\\Users\\Gokul\\AppData\\Local\\Temp\\ipykernel_15892\\1303656025.py:20: FutureWarning: DataFrame.fillna with 'method' is deprecated and will raise in a future version. Use obj.ffill() or obj.bfill() instead.\n",
      "  data = data.fillna(method=\"ffill\").iloc[1:, :]\n",
      "C:\\Users\\Gokul\\AppData\\Local\\Temp\\ipykernel_15892\\1303656025.py:13: FutureWarning: Downcasting behavior in `replace` is deprecated and will be removed in a future version. To retain the old behavior, explicitly call `result.infer_objects(copy=False)`. To opt-in to the future behavior, set `pd.set_option('future.no_silent_downcasting', True)`\n",
      "  data = data.replace(True, 1)\n",
      "C:\\Users\\Gokul\\AppData\\Local\\Temp\\ipykernel_15892\\1303656025.py:14: FutureWarning: Downcasting behavior in `replace` is deprecated and will be removed in a future version. To retain the old behavior, explicitly call `result.infer_objects(copy=False)`. To opt-in to the future behavior, set `pd.set_option('future.no_silent_downcasting', True)`\n",
      "  data = data.replace(False, 0)\n",
      "C:\\Users\\Gokul\\AppData\\Local\\Temp\\ipykernel_15892\\1303656025.py:20: FutureWarning: DataFrame.fillna with 'method' is deprecated and will raise in a future version. Use obj.ffill() or obj.bfill() instead.\n",
      "  data = data.fillna(method=\"ffill\").iloc[1:, :]\n",
      "C:\\Users\\Gokul\\AppData\\Local\\Temp\\ipykernel_15892\\1303656025.py:13: FutureWarning: Downcasting behavior in `replace` is deprecated and will be removed in a future version. To retain the old behavior, explicitly call `result.infer_objects(copy=False)`. To opt-in to the future behavior, set `pd.set_option('future.no_silent_downcasting', True)`\n",
      "  data = data.replace(True, 1)\n",
      "C:\\Users\\Gokul\\AppData\\Local\\Temp\\ipykernel_15892\\1303656025.py:14: FutureWarning: Downcasting behavior in `replace` is deprecated and will be removed in a future version. To retain the old behavior, explicitly call `result.infer_objects(copy=False)`. To opt-in to the future behavior, set `pd.set_option('future.no_silent_downcasting', True)`\n",
      "  data = data.replace(False, 0)\n",
      "C:\\Users\\Gokul\\AppData\\Local\\Temp\\ipykernel_15892\\1303656025.py:20: FutureWarning: DataFrame.fillna with 'method' is deprecated and will raise in a future version. Use obj.ffill() or obj.bfill() instead.\n",
      "  data = data.fillna(method=\"ffill\").iloc[1:, :]\n",
      "C:\\Users\\Gokul\\AppData\\Local\\Temp\\ipykernel_15892\\1303656025.py:13: FutureWarning: Downcasting behavior in `replace` is deprecated and will be removed in a future version. To retain the old behavior, explicitly call `result.infer_objects(copy=False)`. To opt-in to the future behavior, set `pd.set_option('future.no_silent_downcasting', True)`\n",
      "  data = data.replace(True, 1)\n",
      "C:\\Users\\Gokul\\AppData\\Local\\Temp\\ipykernel_15892\\1303656025.py:14: FutureWarning: Downcasting behavior in `replace` is deprecated and will be removed in a future version. To retain the old behavior, explicitly call `result.infer_objects(copy=False)`. To opt-in to the future behavior, set `pd.set_option('future.no_silent_downcasting', True)`\n",
      "  data = data.replace(False, 0)\n",
      "C:\\Users\\Gokul\\AppData\\Local\\Temp\\ipykernel_15892\\1303656025.py:20: FutureWarning: DataFrame.fillna with 'method' is deprecated and will raise in a future version. Use obj.ffill() or obj.bfill() instead.\n",
      "  data = data.fillna(method=\"ffill\").iloc[1:, :]\n",
      "C:\\Users\\Gokul\\AppData\\Local\\Temp\\ipykernel_15892\\1303656025.py:13: FutureWarning: Downcasting behavior in `replace` is deprecated and will be removed in a future version. To retain the old behavior, explicitly call `result.infer_objects(copy=False)`. To opt-in to the future behavior, set `pd.set_option('future.no_silent_downcasting', True)`\n",
      "  data = data.replace(True, 1)\n",
      "C:\\Users\\Gokul\\AppData\\Local\\Temp\\ipykernel_15892\\1303656025.py:14: FutureWarning: Downcasting behavior in `replace` is deprecated and will be removed in a future version. To retain the old behavior, explicitly call `result.infer_objects(copy=False)`. To opt-in to the future behavior, set `pd.set_option('future.no_silent_downcasting', True)`\n",
      "  data = data.replace(False, 0)\n",
      "C:\\Users\\Gokul\\AppData\\Local\\Temp\\ipykernel_15892\\1303656025.py:20: FutureWarning: DataFrame.fillna with 'method' is deprecated and will raise in a future version. Use obj.ffill() or obj.bfill() instead.\n",
      "  data = data.fillna(method=\"ffill\").iloc[1:, :]\n",
      "C:\\Users\\Gokul\\AppData\\Local\\Temp\\ipykernel_15892\\1303656025.py:13: FutureWarning: Downcasting behavior in `replace` is deprecated and will be removed in a future version. To retain the old behavior, explicitly call `result.infer_objects(copy=False)`. To opt-in to the future behavior, set `pd.set_option('future.no_silent_downcasting', True)`\n",
      "  data = data.replace(True, 1)\n",
      "C:\\Users\\Gokul\\AppData\\Local\\Temp\\ipykernel_15892\\1303656025.py:14: FutureWarning: Downcasting behavior in `replace` is deprecated and will be removed in a future version. To retain the old behavior, explicitly call `result.infer_objects(copy=False)`. To opt-in to the future behavior, set `pd.set_option('future.no_silent_downcasting', True)`\n",
      "  data = data.replace(False, 0)\n",
      "C:\\Users\\Gokul\\AppData\\Local\\Temp\\ipykernel_15892\\1303656025.py:20: FutureWarning: DataFrame.fillna with 'method' is deprecated and will raise in a future version. Use obj.ffill() or obj.bfill() instead.\n",
      "  data = data.fillna(method=\"ffill\").iloc[1:, :]\n",
      "C:\\Users\\Gokul\\AppData\\Local\\Temp\\ipykernel_15892\\1303656025.py:13: FutureWarning: Downcasting behavior in `replace` is deprecated and will be removed in a future version. To retain the old behavior, explicitly call `result.infer_objects(copy=False)`. To opt-in to the future behavior, set `pd.set_option('future.no_silent_downcasting', True)`\n",
      "  data = data.replace(True, 1)\n",
      "C:\\Users\\Gokul\\AppData\\Local\\Temp\\ipykernel_15892\\1303656025.py:14: FutureWarning: Downcasting behavior in `replace` is deprecated and will be removed in a future version. To retain the old behavior, explicitly call `result.infer_objects(copy=False)`. To opt-in to the future behavior, set `pd.set_option('future.no_silent_downcasting', True)`\n",
      "  data = data.replace(False, 0)\n",
      "C:\\Users\\Gokul\\AppData\\Local\\Temp\\ipykernel_15892\\1303656025.py:20: FutureWarning: DataFrame.fillna with 'method' is deprecated and will raise in a future version. Use obj.ffill() or obj.bfill() instead.\n",
      "  data = data.fillna(method=\"ffill\").iloc[1:, :]\n",
      "C:\\Users\\Gokul\\AppData\\Local\\Temp\\ipykernel_15892\\1303656025.py:13: FutureWarning: Downcasting behavior in `replace` is deprecated and will be removed in a future version. To retain the old behavior, explicitly call `result.infer_objects(copy=False)`. To opt-in to the future behavior, set `pd.set_option('future.no_silent_downcasting', True)`\n",
      "  data = data.replace(True, 1)\n",
      "C:\\Users\\Gokul\\AppData\\Local\\Temp\\ipykernel_15892\\1303656025.py:14: FutureWarning: Downcasting behavior in `replace` is deprecated and will be removed in a future version. To retain the old behavior, explicitly call `result.infer_objects(copy=False)`. To opt-in to the future behavior, set `pd.set_option('future.no_silent_downcasting', True)`\n",
      "  data = data.replace(False, 0)\n",
      "C:\\Users\\Gokul\\AppData\\Local\\Temp\\ipykernel_15892\\1303656025.py:20: FutureWarning: DataFrame.fillna with 'method' is deprecated and will raise in a future version. Use obj.ffill() or obj.bfill() instead.\n",
      "  data = data.fillna(method=\"ffill\").iloc[1:, :]\n",
      "C:\\Users\\Gokul\\AppData\\Local\\Temp\\ipykernel_15892\\1303656025.py:13: FutureWarning: Downcasting behavior in `replace` is deprecated and will be removed in a future version. To retain the old behavior, explicitly call `result.infer_objects(copy=False)`. To opt-in to the future behavior, set `pd.set_option('future.no_silent_downcasting', True)`\n",
      "  data = data.replace(True, 1)\n",
      "C:\\Users\\Gokul\\AppData\\Local\\Temp\\ipykernel_15892\\1303656025.py:14: FutureWarning: Downcasting behavior in `replace` is deprecated and will be removed in a future version. To retain the old behavior, explicitly call `result.infer_objects(copy=False)`. To opt-in to the future behavior, set `pd.set_option('future.no_silent_downcasting', True)`\n",
      "  data = data.replace(False, 0)\n",
      "C:\\Users\\Gokul\\AppData\\Local\\Temp\\ipykernel_15892\\1303656025.py:20: FutureWarning: DataFrame.fillna with 'method' is deprecated and will raise in a future version. Use obj.ffill() or obj.bfill() instead.\n",
      "  data = data.fillna(method=\"ffill\").iloc[1:, :]\n"
     ]
    }
   ],
   "source": [
    "human = os.listdir(\"./gokul\")\n",
    "bot = os.listdir(\"./other\")\n",
    "complete = pd.DataFrame(columns=['timestamp', 'x_position', 'y_position', 'button', 'click', 'key',\n",
    "           'press', 'speed', 'moved'])\n",
    "\n",
    "for cls, string in ((human, \"./gokul/\"), (bot, \"./other/\")):\n",
    "    for i in cls:\n",
    "        data = pd.read_csv(string + i)\n",
    "        try:\n",
    "            data = data.drop([\"dx\", \"dy\"], axis=1)\n",
    "        except: pass\n",
    "        data = data.fillna(-1)\n",
    "        data = data.replace(True, 1)\n",
    "        data = data.replace(False, 0)\n",
    "        data[\"timestamp\"] = pd.to_datetime(data[\"timestamp\"])\n",
    "        data[\"timestamp\"] = data[\"timestamp\"].diff().dt.total_seconds()\n",
    "        data[\"speed\"] = np.sqrt(data[\"x_position\"].diff() ** 2 + data[\"y_position\"].diff() ** 2) / data[\"timestamp\"]\n",
    "        data[\"moved\"] = data[\"x_position\"].diff() + data[\"y_position\"].diff()\n",
    "        data[\"label\"] = (1 if string == \"./other/\" else 0)\n",
    "        data = data.fillna(method=\"ffill\").iloc[1:, :]\n",
    "        data = data.fillna(0)\n",
    "        data.reset_index(drop=True, inplace=True)\n",
    "        complete = pd.concat([complete, data], axis=0, ignore_index=True)"
   ]
  },
  {
   "cell_type": "code",
   "execution_count": 6,
   "metadata": {},
   "outputs": [],
   "source": [
    "categories = [['A', 'B', 'C', 'D', 'E', 'F', 'G', 'H', 'I', 'J', 'K', 'L', 'M', 'N', 'O', 'P', 'Q', 'R', 'S', 'T', 'U', 'V', 'W', 'X', 'Y', 'Z', \n",
    "                  'a', 'b', 'c', 'd', 'e', 'f', 'g', 'h', 'i', 'j', 'k', 'l', 'm', 'n', 'o', 'p', 'q', 'r', 's', 't', 'u', 'v', 'w', 'x', 'y', 'z', \n",
    "                  '0', '1', '2', '3', '4', '5', '6', '7', '8', '9', \n",
    "                  '.', ',', '?', '!', ':', ';', '\"', \"'\", '-', '(', ')', '[', ']', '{', '}', \n",
    "                  '+', '*', '/', '=', '<', '>', \"ae\", \"#\", \"_\", \"|\"\n",
    "                  ]]\n",
    "\n",
    "complete[\"key\"] = complete[\"key\"].replace(-1, \"ae\")\n",
    "encoder = OneHotEncoder(categories=categories, sparse_output=False)\n",
    "encoded = encoder.fit_transform(complete[[\"key\"]])\n",
    "encoded_df = pd.DataFrame(encoded, columns=encoder.get_feature_names_out(['key']))\n",
    "df_encoded = pd.concat([complete.drop('key', axis=1), encoded_df], axis=1)\n",
    "df_encoded = df_encoded.drop(\"key_ae\", axis=1)\n",
    "df_encoded[\"button\"] = df_encoded[\"button\"].astype(float)\n",
    "df_encoded[\"click\"] = df_encoded[\"click\"].astype(float)\n",
    "df_encoded[\"press\"] = df_encoded[\"press\"].astype(float)"
   ]
  },
  {
   "cell_type": "code",
   "execution_count": 7,
   "metadata": {},
   "outputs": [
    {
     "data": {
      "text/plain": [
       "<bound method Series.unique of 0       -1.0\n",
       "1       -1.0\n",
       "2       -1.0\n",
       "3       -1.0\n",
       "4       -1.0\n",
       "        ... \n",
       "30295   -1.0\n",
       "30296   -1.0\n",
       "30297   -1.0\n",
       "30298   -1.0\n",
       "30299   -1.0\n",
       "Name: button, Length: 30300, dtype: float64>"
      ]
     },
     "execution_count": 7,
     "metadata": {},
     "output_type": "execute_result"
    }
   ],
   "source": [
    "df_encoded[\"button\"].unique"
   ]
  },
  {
   "cell_type": "code",
   "execution_count": 8,
   "metadata": {},
   "outputs": [],
   "source": [
    "class LSTMClassifier(nn.Module):\n",
    "    def __init__(self, input_size=5, hidden_layer_size=50, output_size=2):\n",
    "        super(LSTMClassifier, self).__init__()\n",
    "        self.lstm = nn.LSTM(input_size, hidden_layer_size, batch_first=True)\n",
    "        self.fc = nn.Linear(hidden_layer_size, output_size)\n",
    "\n",
    "    def forward(self, x):\n",
    "        out, (h_n, c_n) = self.lstm(x)\n",
    "        out = self.fc(out[:, -1, :])\n",
    "        return out"
   ]
  },
  {
   "cell_type": "code",
   "execution_count": 9,
   "metadata": {},
   "outputs": [],
   "source": [
    "def create_sequences(data, seq_length, overlap):\n",
    "    sequences = []\n",
    "    result = []\n",
    "    count = 0\n",
    "    \n",
    "    for i in range(0, len(data) - seq_length + 1, seq_length - overlap):\n",
    "        count += 1\n",
    "        sequence = df_encoded.iloc[i:i + seq_length]\n",
    "        label = sequence[\"label\"].max()\n",
    "        sequence = sequence.drop(\"label\", axis=1).values\n",
    "        sequences.append(sequence)\n",
    "        result.append(label)\n",
    "\n",
    "    return (np.array(sequences), np.array(result))\n",
    "\n",
    "\n",
    "sequence_length = 50\n",
    "sequences, labels = create_sequences(df_encoded, sequence_length, 30)"
   ]
  },
  {
   "cell_type": "code",
   "execution_count": 10,
   "metadata": {},
   "outputs": [],
   "source": [
    "x_train, x_test, y_train, y_test = train_test_split(sequences, labels, test_size=0.2, random_state=94)"
   ]
  },
  {
   "cell_type": "code",
   "execution_count": 11,
   "metadata": {},
   "outputs": [],
   "source": [
    "x_train[np.isnan(x_train)] = 0\n",
    "x_train[np.isinf(x_train)] = 0"
   ]
  },
  {
   "cell_type": "code",
   "execution_count": 12,
   "metadata": {},
   "outputs": [
    {
     "name": "stdout",
     "output_type": "stream",
     "text": [
      "Epoch 1, Loss: 0.6520\n",
      "Epoch 2, Loss: 0.5730\n",
      "Epoch 3, Loss: 0.5111\n",
      "Epoch 4, Loss: 0.4655\n",
      "Epoch 5, Loss: 0.4314\n",
      "Epoch 6, Loss: 0.4079\n",
      "Epoch 7, Loss: 0.3913\n",
      "Epoch 8, Loss: 0.3796\n",
      "Epoch 9, Loss: 0.3715\n",
      "Epoch 10, Loss: 0.3659\n",
      "Epoch 11, Loss: 0.3626\n",
      "Epoch 12, Loss: 0.3606\n",
      "Epoch 13, Loss: 0.3602\n",
      "Epoch 14, Loss: 0.3602\n",
      "Epoch 15, Loss: 0.3587\n",
      "Epoch 16, Loss: 0.3564\n",
      "Epoch 17, Loss: 0.3538\n",
      "Epoch 18, Loss: 0.3513\n",
      "Epoch 19, Loss: 0.3488\n",
      "Epoch 20, Loss: 0.3469\n"
     ]
    }
   ],
   "source": [
    "model = LSTMClassifier(input_size=94, hidden_layer_size=188, output_size=2)\n",
    "loss_function = nn.CrossEntropyLoss()\n",
    "optimizer = torch.optim.Adam(model.parameters(), lr=0.001)\n",
    "\n",
    "epochs = 20\n",
    "for epoch in range(epochs):\n",
    "    model.train()\n",
    "    \n",
    "    optimizer.zero_grad()\n",
    "    y_pred = model(torch.FloatTensor(x_train))\n",
    "    loss = loss_function(y_pred, torch.LongTensor(y_train))\n",
    "    loss.backward()\n",
    "    torch.nn.utils.clip_grad_norm_(model.parameters(), max_norm=1.0)\n",
    "    optimizer.step()\n",
    "    \n",
    "    print(f'Epoch {epoch+1}, Loss: {loss.item():.4f}')"
   ]
  },
  {
   "cell_type": "code",
   "execution_count": 13,
   "metadata": {},
   "outputs": [
    {
     "name": "stdout",
     "output_type": "stream",
     "text": [
      "Test Accuracy: 88.45%\n",
      "              precision    recall  f1-score   support\n",
      "\n",
      "         0.0       0.00      0.00      0.00        35\n",
      "         1.0       0.88      1.00      0.94       268\n",
      "\n",
      "    accuracy                           0.88       303\n",
      "   macro avg       0.44      0.50      0.47       303\n",
      "weighted avg       0.78      0.88      0.83       303\n",
      "\n"
     ]
    },
    {
     "name": "stderr",
     "output_type": "stream",
     "text": [
      "e:\\Software\\Python3.11.9\\Lib\\site-packages\\sklearn\\metrics\\_classification.py:1531: UndefinedMetricWarning: Precision is ill-defined and being set to 0.0 in labels with no predicted samples. Use `zero_division` parameter to control this behavior.\n",
      "  _warn_prf(average, modifier, f\"{metric.capitalize()} is\", len(result))\n",
      "e:\\Software\\Python3.11.9\\Lib\\site-packages\\sklearn\\metrics\\_classification.py:1531: UndefinedMetricWarning: Precision is ill-defined and being set to 0.0 in labels with no predicted samples. Use `zero_division` parameter to control this behavior.\n",
      "  _warn_prf(average, modifier, f\"{metric.capitalize()} is\", len(result))\n",
      "e:\\Software\\Python3.11.9\\Lib\\site-packages\\sklearn\\metrics\\_classification.py:1531: UndefinedMetricWarning: Precision is ill-defined and being set to 0.0 in labels with no predicted samples. Use `zero_division` parameter to control this behavior.\n",
      "  _warn_prf(average, modifier, f\"{metric.capitalize()} is\", len(result))\n"
     ]
    }
   ],
   "source": [
    "model.eval()\n",
    "with torch.no_grad():\n",
    "    y_test_pred = model(torch.FloatTensor(x_test))\n",
    "    y_test_pred_class = torch.argmax(y_test_pred, dim=1)\n",
    "\n",
    "accuracy = accuracy_score(y_test, y_test_pred_class.numpy())\n",
    "print(f'Test Accuracy: {accuracy * 100:.2f}%')\n",
    "print(classification_report(y_test, y_test_pred_class.numpy()))"
   ]
  },
  {
   "cell_type": "code",
   "execution_count": 14,
   "metadata": {},
   "outputs": [],
   "source": [
    "torch.save(model.state_dict(), 'model_test.pth')"
   ]
  },
  {
   "cell_type": "code",
   "execution_count": null,
   "metadata": {},
   "outputs": [],
   "source": []
  }
 ],
 "metadata": {
  "kernelspec": {
   "display_name": "Python 3",
   "language": "python",
   "name": "python3"
  },
  "language_info": {
   "codemirror_mode": {
    "name": "ipython",
    "version": 3
   },
   "file_extension": ".py",
   "mimetype": "text/x-python",
   "name": "python",
   "nbconvert_exporter": "python",
   "pygments_lexer": "ipython3",
   "version": "3.11.9"
  }
 },
 "nbformat": 4,
 "nbformat_minor": 2
}
