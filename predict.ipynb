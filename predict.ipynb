{
 "cells": [
  {
   "cell_type": "code",
   "execution_count": 2,
   "metadata": {},
   "outputs": [],
   "source": [
    "import torch\n",
    "import torch.nn as nn\n",
    "import torch.optim as optim\n",
    "import numpy as np\n",
    "import pandas as pd\n",
    "from sklearn.preprocessing import LabelEncoder, StandardScaler\n",
    "from sklearn.model_selection import train_test_split\n",
    "from torch.utils.data import DataLoader, Dataset\n",
    "import os"
   ]
  },
  {
   "cell_type": "code",
   "execution_count": 24,
   "metadata": {},
   "outputs": [
    {
     "data": {
      "text/plain": [
       "[array([nan, True], dtype=object),\n",
       " array([nan, True, False], dtype=object),\n",
       " array([nan, 'a', 's', ')', '8', ':', 'V', '/', 'N', 'c', 'L', 'C', '=',\n",
       "        '+', '}', ']', 'w', 't', '>', 'f', 'd', '-', \"'\", 'p', 'v', '(',\n",
       "        'Q', 'W', 'K', 'A', 'l', 'i', 'x', '{', 'S', 'm', 'X', 'b', 'Z',\n",
       "        'E', '!', 'J'], dtype=object),\n",
       " array([nan, True, False], dtype=object)]"
      ]
     },
     "execution_count": 24,
     "metadata": {},
     "output_type": "execute_result"
    }
   ],
   "source": [
    "human = os.listdir(\"./human\")\n",
    "bot = os.listdir(\"./bot\")\n",
    "\n",
    "data = pd.read_csv(\"./human/\" + human[0])\n",
    "data = data.drop(\"Unnamed: 0\", axis=1)\n",
    "[data[x].unique() for x in [\"button\", \"click\", \"key\", \"press\"]]"
   ]
  },
  {
   "cell_type": "code",
   "execution_count": null,
   "metadata": {},
   "outputs": [],
   "source": []
  }
 ],
 "metadata": {
  "kernelspec": {
   "display_name": "Python 3",
   "language": "python",
   "name": "python3"
  },
  "language_info": {
   "codemirror_mode": {
    "name": "ipython",
    "version": 3
   },
   "file_extension": ".py",
   "mimetype": "text/x-python",
   "name": "python",
   "nbconvert_exporter": "python",
   "pygments_lexer": "ipython3",
   "version": "3.11.9"
  }
 },
 "nbformat": 4,
 "nbformat_minor": 2
}
