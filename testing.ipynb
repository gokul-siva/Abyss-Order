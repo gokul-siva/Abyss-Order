{
 "cells": [
  {
   "cell_type": "code",
   "execution_count": 53,
   "metadata": {},
   "outputs": [
    {
     "ename": "",
     "evalue": "",
     "output_type": "error",
     "traceback": [
      "\u001b[1;31mThe kernel failed to start as 'has_suggestion' could not be imported from 'd:\\pytho\\lib\\site-packages\\prompt_toolkit\\filters\\__init__.py'.\n",
      "\u001b[1;31mClick <a href='https://aka.ms/kernelFailuresModuleImportErrFromFile'>here</a> for more info."
     ]
    }
   ],
   "source": [
    "import torch\n",
    "import torch.nn as nn\n",
    "import torch.optim as optim\n",
    "import numpy as np\n",
    "import pandas as pd\n",
    "from sklearn.preprocessing import MinMaxScaler, OneHotEncoder\n",
    "from sklearn.model_selection import train_test_split\n",
    "from torch.utils.data import DataLoader, Dataset\n",
    "from sklearn.metrics import accuracy_score, classification_report\n",
    "import os"
   ]
  },
  {
   "cell_type": "code",
   "execution_count": 92,
   "metadata": {},
   "outputs": [],
   "source": [
    "class LSTMClassifier(nn.Module):\n",
    "    def __init__(self, input_size=5, hidden_layer_size=50, output_size=2):\n",
    "        super(LSTMClassifier, self).__init__()\n",
    "        self.lstm = nn.LSTM(input_size, hidden_layer_size, batch_first=True)\n",
    "        self.fc = nn.Linear(hidden_layer_size, output_size)\n",
    "\n",
    "    def forward(self, x):\n",
    "        out, (h_n, c_n) = self.lstm(x)\n",
    "        out = self.fc(out[:, -1, :])\n",
    "        return out"
   ]
  },
  {
   "cell_type": "code",
   "execution_count": 93,
   "metadata": {},
   "outputs": [],
   "source": [
    "def create_sequences(data, seq_length, overlap):\n",
    "    sequences = []\n",
    "    result = []\n",
    "    count = 0\n",
    "    \n",
    "    for i in range(0, len(data) - seq_length + 1, seq_length - overlap):\n",
    "        count += 1\n",
    "        sequence = data.iloc[i:i + seq_length]\n",
    "        sequence = sequence.values\n",
    "        sequences.append(sequence)\n",
    "\n",
    "    return np.array(sequences)"
   ]
  },
  {
   "cell_type": "code",
   "execution_count": 94,
   "metadata": {},
   "outputs": [],
   "source": [
    "def preprocess(file):\n",
    "    data = pd.read_csv(file)\n",
    "    data = data.drop([\"dx\", \"dy\"], axis=1)\n",
    "    data = data.fillna(-1)\n",
    "    data = data.replace(True, 1)\n",
    "    data = data.replace(False, 0)\n",
    "    data[\"timestamp\"] = pd.to_datetime(data[\"timestamp\"])\n",
    "    data[\"timestamp\"] = data[\"timestamp\"].diff().dt.total_seconds()\n",
    "    data[\"speed\"] = np.sqrt(data[\"x_position\"].diff() ** 2 + data[\"y_position\"].diff() ** 2) / data[\"timestamp\"]\n",
    "    data[\"moved\"] = data[\"x_position\"].diff() + data[\"y_position\"].diff()\n",
    "    data = data.fillna(method=\"ffill\").iloc[1:, :]\n",
    "    data = data.fillna(0)\n",
    "    data.reset_index(drop=True, inplace=True)\n",
    "\n",
    "    categories = [['A', 'B', 'C', 'D', 'E', 'F', 'G', 'H', 'I', 'J', 'K', 'L', 'M', 'N', 'O', 'P', 'Q', 'R', 'S', 'T', 'U', 'V', 'W', 'X', 'Y', 'Z', \n",
    "                    'a', 'b', 'c', 'd', 'e', 'f', 'g', 'h', 'i', 'j', 'k', 'l', 'm', 'n', 'o', 'p', 'q', 'r', 's', 't', 'u', 'v', 'w', 'x', 'y', 'z', \n",
    "                    '0', '1', '2', '3', '4', '5', '6', '7', '8', '9', \n",
    "                    '.', ',', '?', '!', ':', ';', '\"', \"'\", '-', '(', ')', '[', ']', '{', '}', \n",
    "                    '+', '*', '/', '=', '<', '>', \"ae\", \"#\", \"_\", \"|\"\n",
    "                    ]]\n",
    "\n",
    "    data[\"key\"] = data[\"key\"].replace(-1, \"ae\")\n",
    "    encoder = OneHotEncoder(categories=categories, sparse_output=False)\n",
    "    encoded = encoder.fit_transform(data[[\"key\"]])\n",
    "    encoded_df = pd.DataFrame(encoded, columns=encoder.get_feature_names_out(['key']))\n",
    "    df_encoded = pd.concat([data.drop('key', axis=1), encoded_df], axis=1)\n",
    "    df_encoded = df_encoded.drop(\"key_ae\", axis=1)\n",
    "    df_encoded[\"button\"] = df_encoded[\"button\"].astype(float)\n",
    "    df_encoded[\"click\"] = df_encoded[\"click\"].astype(float)\n",
    "    df_encoded[\"press\"] = df_encoded[\"press\"].astype(float)\n",
    "\n",
    "    sequence = create_sequences(df_encoded, 50, 30)\n",
    "    sequence[np.isnan(sequence)] = 0\n",
    "\n",
    "    sequence = torch.from_numpy(sequence)\n",
    "    sequence = torch.tensor(sequence, dtype=torch.float32)\n",
    "\n",
    "    return sequence"
   ]
  },
  {
   "cell_type": "code",
   "execution_count": 95,
   "metadata": {},
   "outputs": [],
   "source": [
    "def predict(sequence):\n",
    "    model = LSTMClassifier(input_size=94, hidden_layer_size=188, output_size=2)\n",
    "    model.load_state_dict(torch.load(\"model.pth\"))\n",
    "    model.eval()\n",
    "\n",
    "    with torch.no_grad():\n",
    "        prediction = model(sequence)\n",
    "\n",
    "    prediction_class = torch.argmax(prediction, dim=1)\n",
    "    count = 0\n",
    "\n",
    "    for i in prediction_class:\n",
    "        if i == 1:\n",
    "            count += 1\n",
    "    print(\"Bot percentage:\", count / len(prediction_class))"
   ]
  },
  {
   "cell_type": "code",
   "execution_count": 96,
   "metadata": {},
   "outputs": [
    {
     "name": "stdout",
     "output_type": "stream",
     "text": [
      "Index(['timestamp', 'x_position', 'y_position', 'button', 'click', 'press',\n",
      "       'speed', 'moved', 'key_A', 'key_B', 'key_C', 'key_D', 'key_E', 'key_F',\n",
      "       'key_G', 'key_H', 'key_I', 'key_J', 'key_K', 'key_L', 'key_M', 'key_N',\n",
      "       'key_O', 'key_P', 'key_Q', 'key_R', 'key_S', 'key_T', 'key_U', 'key_V',\n",
      "       'key_W', 'key_X', 'key_Y', 'key_Z', 'key_a', 'key_b', 'key_c', 'key_d',\n",
      "       'key_e', 'key_f', 'key_g', 'key_h', 'key_i', 'key_j', 'key_k', 'key_l',\n",
      "       'key_m', 'key_n', 'key_o', 'key_p', 'key_q', 'key_r', 'key_s', 'key_t',\n",
      "       'key_u', 'key_v', 'key_w', 'key_x', 'key_y', 'key_z', 'key_0', 'key_1',\n",
      "       'key_2', 'key_3', 'key_4', 'key_5', 'key_6', 'key_7', 'key_8', 'key_9',\n",
      "       'key_.', 'key_,', 'key_?', 'key_!', 'key_:', 'key_;', 'key_\"', 'key_'',\n",
      "       'key_-', 'key_(', 'key_)', 'key_[', 'key_]', 'key_{', 'key_}', 'key_+',\n",
      "       'key_*', 'key_/', 'key_=', 'key_<', 'key_>', 'key_#', 'key__', 'key_|'],\n",
      "      dtype='object')\n",
      "Bot percentage: 0.0\n"
     ]
    },
    {
     "name": "stderr",
     "output_type": "stream",
     "text": [
      "C:\\Users\\Gokul\\AppData\\Local\\Temp\\ipykernel_32640\\2192864521.py:5: FutureWarning: Downcasting behavior in `replace` is deprecated and will be removed in a future version. To retain the old behavior, explicitly call `result.infer_objects(copy=False)`. To opt-in to the future behavior, set `pd.set_option('future.no_silent_downcasting', True)`\n",
      "  data = data.replace(True, 1)\n",
      "C:\\Users\\Gokul\\AppData\\Local\\Temp\\ipykernel_32640\\2192864521.py:6: FutureWarning: Downcasting behavior in `replace` is deprecated and will be removed in a future version. To retain the old behavior, explicitly call `result.infer_objects(copy=False)`. To opt-in to the future behavior, set `pd.set_option('future.no_silent_downcasting', True)`\n",
      "  data = data.replace(False, 0)\n",
      "C:\\Users\\Gokul\\AppData\\Local\\Temp\\ipykernel_32640\\2192864521.py:11: FutureWarning: DataFrame.fillna with 'method' is deprecated and will raise in a future version. Use obj.ffill() or obj.bfill() instead.\n",
      "  data = data.fillna(method=\"ffill\").iloc[1:, :]\n",
      "C:\\Users\\Gokul\\AppData\\Local\\Temp\\ipykernel_32640\\2192864521.py:37: UserWarning: To copy construct from a tensor, it is recommended to use sourceTensor.clone().detach() or sourceTensor.clone().detach().requires_grad_(True), rather than torch.tensor(sourceTensor).\n",
      "  sequence = torch.tensor(sequence, dtype=torch.float32)\n",
      "C:\\Users\\Gokul\\AppData\\Local\\Temp\\ipykernel_32640\\2048011365.py:3: FutureWarning: You are using `torch.load` with `weights_only=False` (the current default value), which uses the default pickle module implicitly. It is possible to construct malicious pickle data which will execute arbitrary code during unpickling (See https://github.com/pytorch/pytorch/blob/main/SECURITY.md#untrusted-models for more details). In a future release, the default value for `weights_only` will be flipped to `True`. This limits the functions that could be executed during unpickling. Arbitrary objects will no longer be allowed to be loaded via this mode unless they are explicitly allowlisted by the user via `torch.serialization.add_safe_globals`. We recommend you start setting `weights_only=True` for any use case where you don't have full control of the loaded file. Please open an issue on GitHub for any issues related to this experimental feature.\n",
      "  model.load_state_dict(torch.load(\"model.pth\"))\n"
     ]
    }
   ],
   "source": [
    "predict(preprocess(\"./54235532.csv\"))"
   ]
  },
  {
   "cell_type": "code",
   "execution_count": null,
   "metadata": {},
   "outputs": [],
   "source": []
  }
 ],
 "metadata": {
  "kernelspec": {
   "display_name": "Python 3",
   "language": "python",
   "name": "python3"
  },
  "language_info": {
   "codemirror_mode": {
    "name": "ipython",
    "version": 3
   },
   "file_extension": ".py",
   "mimetype": "text/x-python",
   "name": "python",
   "nbconvert_exporter": "python",
   "pygments_lexer": "ipython3",
   "version": "3.9.0"
  }
 },
 "nbformat": 4,
 "nbformat_minor": 2
}
